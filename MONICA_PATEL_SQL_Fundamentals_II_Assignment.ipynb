{
  "nbformat": 4,
  "nbformat_minor": 0,
  "metadata": {
    "colab": {
      "provenance": [],
      "include_colab_link": true
    },
    "kernelspec": {
      "name": "python3",
      "display_name": "Python 3"
    }
  },
  "cells": [
    {
      "cell_type": "markdown",
      "metadata": {
        "id": "view-in-github",
        "colab_type": "text"
      },
      "source": [
        "<a href=\"https://colab.research.google.com/github/1993monica/SQL-Assignment-I/blob/main/MONICA_PATEL_SQL_Fundamentals_II_Assignment.ipynb\" target=\"_parent\"><img src=\"https://colab.research.google.com/assets/colab-badge.svg\" alt=\"Open In Colab\"/></a>"
      ]
    },
    {
      "cell_type": "markdown",
      "metadata": {
        "id": "LSx52toYvkE0"
      },
      "source": [
        "# <b> Question 1 : Return the customer IDs of customers who have spent at least $110 with the staff member who has an ID of 2.\n"
      ]
    },
    {
      "cell_type": "markdown",
      "source": [
        "SELECT customer_id, SUM (amount) FROM payment\n",
        "WHERE staff_id= 2\n",
        "GROUP BY customer_id , staff_id\n",
        "HAVING SUM (amount) >=110\n",
        "ORDER BY customer_id\n",
        "\n",
        "---\n",
        "\n"
      ],
      "metadata": {
        "id": "fQ4vfXXDhiYr"
      }
    },
    {
      "cell_type": "markdown",
      "metadata": {
        "id": "grhpLeadvkHP"
      },
      "source": [
        "# <b> Question 2 :  How many films begin with the letter J?\n"
      ]
    },
    {
      "cell_type": "markdown",
      "source": [
        "SELECT title FROM film\n",
        "WHERE title LIKE 'J%'\n"
      ],
      "metadata": {
        "id": "EYjsBjOMiCpK"
      }
    },
    {
      "cell_type": "markdown",
      "metadata": {
        "id": "7ADgnW_VvkJg"
      },
      "source": [
        "# <b> Question 3 : What customer has the highest customer ID number whose name starts with an 'E' and has an address ID lower than 500?"
      ]
    },
    {
      "cell_type": "markdown",
      "source": [
        "SELECT customer_id , first_name , address_id FROM customer\n",
        "WHERE first_name  ILIKE 'E%'\n",
        "GROUP BY customer_id\n",
        "HAVING Address_id <500\n",
        "ORDER BY customer_id DESC\n"
      ],
      "metadata": {
        "id": "dhzQbLA9iWbr"
      }
    },
    {
      "cell_type": "code",
      "source": [],
      "metadata": {
        "id": "qjFmCo0OiVkr"
      },
      "execution_count": null,
      "outputs": []
    },
    {
      "cell_type": "code",
      "metadata": {
        "id": "NGneZu8nxXN9"
      },
      "source": [],
      "execution_count": null,
      "outputs": []
    }
  ]
}